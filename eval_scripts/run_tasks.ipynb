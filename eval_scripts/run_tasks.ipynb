{
 "cells": [
  {
   "cell_type": "code",
   "execution_count": null,
   "metadata": {},
   "outputs": [],
   "source": [
    "import sys\n",
    "sys.path.append(\"..\")\n",
    "import tasks"
   ]
  },
  {
   "cell_type": "code",
   "execution_count": null,
   "metadata": {},
   "outputs": [],
   "source": [
    "# task 1\n",
    "task1_data_fn = \"../data/eval_tasks/task1.csv\"\n",
    "task1_out_fn = \"../reproduce/output/run_results/task1_results.csv\"\n",
    "\n",
    "tasks.run_task1(task1_data_fn, task1_out_fn)"
   ]
  },
  {
   "cell_type": "code",
   "execution_count": null,
   "metadata": {},
   "outputs": [],
   "source": [
    "# task 2\n",
    "task2_data_fn = \"../data/eval_tasks/task2.csv\"\n",
    "task2_out_fn = \"../reproduce/output/run_results/task2_results.csv\"\n",
    "\n",
    "tasks.run_task2(task2_data_fn, task2_out_fn)"
   ]
  },
  {
   "cell_type": "code",
   "execution_count": null,
   "metadata": {},
   "outputs": [],
   "source": [
    "# task 3\n",
    "task3_data_fn = \"../data/eval_tasks/task3.csv\"\n",
    "task3_out_fn = \"../reproduce/output/run_results/task3_results.csv\"\n",
    "\n",
    "tasks.run_task3(task3_data_fn, task3_out_fn)"
   ]
  },
  {
   "cell_type": "code",
   "execution_count": null,
   "metadata": {},
   "outputs": [],
   "source": [
    "task4_data_fn = \"../reproduce/output/eval_tasks/task4.csv\"\n",
    "task4_out_fn = \"../reproduce/output/run_results/task4_results.csv\"\n",
    "\n",
    "agent_tasks.run_task4(task4_data_fn, task4_out_fn)"
   ]
  },
  {
   "cell_type": "code",
   "execution_count": null,
   "metadata": {},
   "outputs": [],
   "source": [
    "# task 5\n",
    "task5_data_fn = \"../data/eval_tasks/task5.csv\"\n",
    "task5_out_fn = \"../reproduce/output/run_results/task5_results.csv\"\n",
    "\n",
    "tasks.run_task5(task5_data_fn, task5_out_fn)"
   ]
  },
  {
   "cell_type": "code",
   "execution_count": null,
   "metadata": {},
   "outputs": [],
   "source": [
    "# task 6\n",
    "task6_data_fn = \"../reproduce/output/eval_tasks/task6.csv\"\n",
    "task6_out_fn = \"../reproduce/output/run_results/task6_results.csv\"\n",
    "\n",
    "result_list = tasks.run_task6(task6_data_fn, task6_out_fn)"
   ]
  },
  {
   "cell_type": "code",
   "execution_count": null,
   "metadata": {},
   "outputs": [],
   "source": [
    "# task 6\n",
    "task6_data_fn = \"../data/eval_tasks/task6.pkl\"\n",
    "task6_out_fn = \"../reproduce/output/run_results/task6_results.pkl\"\n",
    "\n",
    "result_list = tasks.run_task6(task6_data_fn, task6_out_fn)"
   ]
  },
  {
   "cell_type": "code",
   "execution_count": null,
   "metadata": {},
   "outputs": [],
   "source": [
    "task7_data_fn = \"../reproduce/output/eval_tasks/task7.csv\"\n",
    "task7_out_fn = \"../reproduce/output/run_results/task7_results.csv\"\n",
    "\n",
    "agent_tasks.run_task7(task7_data_fn, task7_out_fn)"
   ]
  },
  {
   "cell_type": "code",
   "execution_count": null,
   "metadata": {},
   "outputs": [],
   "source": [
    "# task 8\n",
    "task8_data_fn = \"../data/eval_tasks/task8.csv\"\n",
    "task8_out_fn = \"../reproduce/output/run_results/task8_results.csv\"\n",
    "\n",
    "tasks.run_task8(task8_data_fn, task8_out_fn)"
   ]
  }
 ],
 "metadata": {
  "interpreter": {
   "hash": "9e16d08a1e9f924561400ab1dbae52f8e3a6a31fe512ade22523545284255347"
  },
  "kernelspec": {
   "display_name": "Python 3.9.18 ('agent')",
   "language": "python",
   "name": "python3"
  },
  "language_info": {
   "codemirror_mode": {
    "name": "ipython",
    "version": 3
   },
   "file_extension": ".py",
   "mimetype": "text/x-python",
   "name": "python",
   "nbconvert_exporter": "python",
   "pygments_lexer": "ipython3",
   "version": "3.9.18"
  },
  "orig_nbformat": 4
 },
 "nbformat": 4,
 "nbformat_minor": 2
}
