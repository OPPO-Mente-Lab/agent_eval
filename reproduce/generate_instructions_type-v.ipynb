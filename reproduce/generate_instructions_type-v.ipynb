{
 "cells": [
  {
   "cell_type": "code",
   "execution_count": 6,
   "metadata": {},
   "outputs": [],
   "source": [
    "import sys\n",
    "sys.path.append(\"..\")\n",
    "\n",
    "from toolset import Toolset\n",
    "import os\n",
    "import pandas as pd "
   ]
  },
  {
   "cell_type": "code",
   "execution_count": 7,
   "metadata": {},
   "outputs": [],
   "source": [
    "toolset = Toolset()\n",
    "api_docs = toolset.get_api_docs()\n",
    "\n",
    "out_dir = \"output/instruction_data/type-v/\"\n",
    "os.makedirs(out_dir, exist_ok=True)"
   ]
  },
  {
   "cell_type": "markdown",
   "metadata": {},
   "source": [
    "### comb1"
   ]
  },
  {
   "cell_type": "code",
   "execution_count": 11,
   "metadata": {},
   "outputs": [
    {
     "name": "stdout",
     "output_type": "stream",
     "text": [
      "1. This API is responsible for providing a list of hotels\n",
      "2. This API is responsible for providing hotel details\n",
      "3. This API is responsible for providing a price list\n",
      "4. This API is responsible for providing a review list\n",
      "5. This API is responsible for providing a list of similar hotels\n"
     ]
    }
   ],
   "source": [
    "api_comb = [\n",
    "\"skyscanner80/hotels_search\",\n",
    "\"skyscanner80/hotels_hotel_detail\",\n",
    "\"skyscanner80/hotels_prices\",\n",
    "\"skyscanner80/hotels_reviews\",\n",
    "\"skyscanner80/hotels_similar_hotels\"\n",
    "]\n",
    "\n",
    "api_desc_list = []\n",
    "for idx, api in enumerate(api_comb):\n",
    "    tool_name, api_name = api.split(\"/\")\n",
    "    d = api_docs[tool_name][api_name]\n",
    "    api_desc_list.append(f\"{idx+1}. \" + d['description'])\n",
    "api_desc_text = \"\\n\".join(api_desc_list)\n",
    "print(api_desc_text)"
   ]
  },
  {
   "cell_type": "code",
   "execution_count": 30,
   "metadata": {},
   "outputs": [],
   "source": [
    "# example = \"I am going to travel to London for business. Please help check the high-rate hotels under 500 USD per night in the business district.\"\n",
    "# example = \"I am going to Dubai for holiday. Can you give me a table of hotels in the Palm Jumeirah. Include price, a few photos, and rate and other important info in the table\"\n",
    "example = \"provide me with a list of hotels in the downtown area of Shenzhen, sorted by price.\"\n",
    "\n",
    "prompt = f\"\"\"Please generate 5 high-level instructions which can be solved with the combination of some of the APIs below. \n",
    "\n",
    "Tool: query hotels and flights in real-time data. By searching and comparing hotel options, the tool assists travelers in finding the most cost-effective option for their journey.\n",
    "API-1. for providing a list of hotels\n",
    "API-2. for providing hotel details\n",
    "API-3. for checking hotel price\n",
    "API-4. for providing a review list\n",
    "API-5. for providing a list of similar hotels\n",
    "\n",
    "For example:\n",
    "Instruction: {example}\n",
    "\"\"\"\n",
    "\n",
    "gpt = GPT(model_name=\"gpt-4-turbo\")\n",
    "resp = gpt.chat([{\"role\": \"user\", \"content\": prompt}])\n",
    "with open(os.path.join(out_dir, \"comb1_group2.txt\"), \"w\") as file:\n",
    "    file.write(prompt)\n",
    "    file.write(\"\\n\\n==== RESPONSE ====\\n\")\n",
    "    file.write(resp['content'])"
   ]
  },
  {
   "cell_type": "code",
   "execution_count": 28,
   "metadata": {},
   "outputs": [],
   "source": []
  },
  {
   "cell_type": "markdown",
   "metadata": {},
   "source": [
    "### comb2"
   ]
  },
  {
   "cell_type": "code",
   "execution_count": 31,
   "metadata": {},
   "outputs": [
    {
     "name": "stdout",
     "output_type": "stream",
     "text": [
      "1. Search tourist attraction\n",
      "2. Get detail of tourist attraction\n",
      "3. Get photos of tourist attraction\n",
      "4. Get reviews of tourist attraction\n"
     ]
    }
   ],
   "source": [
    "api_comb = [\n",
    "\"tourist_attraction/search\",\n",
    "\"tourist_attraction/detail\",\n",
    "\"tourist_attraction/photos\",\n",
    "\"tourist_attraction/reviews\"\n",
    "]\n",
    "\n",
    "api_desc_list = []\n",
    "for idx, api in enumerate(api_comb):\n",
    "    tool_name, api_name = api.split(\"/\")\n",
    "    d = api_docs[tool_name][api_name]\n",
    "    api_desc_list.append(f\"{idx+1}. \" + d['description'])\n",
    "api_desc_text = \"\\n\".join(api_desc_list)\n",
    "print(api_desc_text)"
   ]
  },
  {
   "cell_type": "code",
   "execution_count": 34,
   "metadata": {},
   "outputs": [],
   "source": [
    "# example = \"I am planning a travel and I am considering Tokyo. Can you show me some tourist attractions there?\"\n",
    "# example = \"Give me some tourist information about Fuji-san.\"\n",
    "example = \"I am writing an article about the must go places in China. Collect some materials for me please.\"\n",
    "\n",
    "prompt = f\"\"\"Please generate 5 high-level instructions which can be solved with the combination of some of the APIs below. \n",
    "\n",
    "Tool description: Discover the world's wonders with ease using the Tourist Attraction API. Unleash a wealth of information about popular attractions worldwide, including historical sites, natural landmarks, museums, and more. Seamlessly integrate this API to provide users with detailed insights, captivating images, and essential details, enriching their travel experiences like never before. Whether you\\u2019re crafting travel apps, tour guides, or adventure platforms, the Tourist Attraction API is your gateway to enhancing journeys and exploration.\n",
    "API-1. Search tourist attraction\n",
    "API-2. Get detail of tourist attraction\n",
    "API-3. Get photos of tourist attraction\n",
    "API-4. Get reviews of tourist attraction\n",
    "\n",
    "For example:\n",
    "Instruction: {example}\n",
    "\"\"\"\n",
    "\n",
    "gpt = GPT(model_name=\"gpt-4-turbo\")\n",
    "resp = gpt.chat([{\"role\": \"user\", \"content\": prompt}])\n",
    "with open(os.path.join(out_dir, \"comb2_group3.txt\"), \"w\") as file:\n",
    "    file.write(prompt)\n",
    "    file.write(\"\\n\\n==== RESPONSE ====\\n\")\n",
    "    file.write(resp['content'])"
   ]
  },
  {
   "cell_type": "code",
   "execution_count": null,
   "metadata": {},
   "outputs": [],
   "source": []
  },
  {
   "cell_type": "markdown",
   "metadata": {},
   "source": [
    "### Comb3"
   ]
  },
  {
   "cell_type": "code",
   "execution_count": 35,
   "metadata": {},
   "outputs": [
    {
     "name": "stdout",
     "output_type": "stream",
     "text": [
      "1. This API helps to get the list of one-way flights. Note:- In the event that the status is incomplete (data->context->status=incomplete), you must utilize the api/v1/flights/search-incomplete endpoint to retrieve the complete data until it's complete (data->context->status=complete).\n",
      "2. This API helps to get the list of round trip flights. Note:- In the event that the status is incomplete (data->context->status=incomplete), you must utilize the `flights_search_incomplete` endpoint to retrieve the complete data until it's complete (data->context->status=complete).\n",
      "3. This API helps to find flights with uncertain destinations.\n",
      "4. Obtain complete data for the endpoint of flights_search_one_way, flights_search_roundtrip. Until the item's status is complete (data->context->status=complete), you must call the API multiple times\n",
      "5. Get all the details of the fights based on itineraryId and token.\n",
      "6. This API will return a calendar for the given source and destination\n"
     ]
    }
   ],
   "source": [
    "api_comb = [\n",
    "\"skyscanner80/flights_search_one_way\",\n",
    "\"skyscanner80/flights_search_roundtrip\",\n",
    "\"skyscanner80/flights_search_everywhere\",\n",
    "\"skyscanner80/flights_search_incomplete\",\n",
    "\"skyscanner80/flights_flight_detail\",\n",
    "\"skyscanner80/flights_price_calendar\"\n",
    "]\n",
    "\n",
    "api_desc_list = []\n",
    "for idx, api in enumerate(api_comb):\n",
    "    tool_name, api_name = api.split(\"/\")\n",
    "    d = api_docs[tool_name][api_name]\n",
    "    api_desc_list.append(f\"{idx+1}. \" + d['description'])\n",
    "api_desc_text = \"\\n\".join(api_desc_list)\n",
    "print(api_desc_text)"
   ]
  },
  {
   "cell_type": "code",
   "execution_count": 127,
   "metadata": {},
   "outputs": [],
   "source": [
    "# example = \"Check the flight price between Hongkong and Brisbane for me. Depart from Hongkong on July 10 and return from Brisbane on July 20. Compare the total prices of two single-trip and one round-trip.\"\n",
    "# example = \"Check the prices of round-trip flights from Hongkong to Brisbane, with departure date July 10 and return date July 20. Direct flights only.\"\n",
    "example = \"I plan to travel to Sydney for 7 days in August. Can you check the flights and tell me the best departure and return dates?\"\n",
    "\n",
    "prompt = f\"\"\"Please generate 5 high-level instructions which can be solved with the combination of some of the APIs below. \n",
    "\n",
    "Tool description: query hotels and flights in real-time data. By searching and comparing hotel options, the tool assists travelers in finding the most cost-effective option for their journey.\n",
    "1. This API helps to get the list of one-way flights. \n",
    "2. This API helps to get the list of round trip flights. \n",
    "3. This API helps to find flights with uncertain destinations.\n",
    "5. Get all the details of the fights based on itineraryId and token.\n",
    "6. This API will return a calendar for the given source and destination\n",
    "\n",
    "For example:\n",
    "Instruction: {example}\n",
    "\"\"\"\n",
    "\n",
    "gpt = GPT(model_name=\"gpt-4-turbo\")\n",
    "resp = gpt.chat([{\"role\": \"user\", \"content\": prompt}])\n",
    "with open(os.path.join(out_dir,\"comb3_group3.txt\"), \"w\") as file:\n",
    "    file.write(prompt)\n",
    "    file.write(\"\\n\\n==== RESPONSE ====\\n\")\n",
    "    file.write(resp['content'])"
   ]
  },
  {
   "cell_type": "markdown",
   "metadata": {},
   "source": [
    "### Comb4"
   ]
  },
  {
   "cell_type": "code",
   "execution_count": 39,
   "metadata": {},
   "outputs": [
    {
     "name": "stdout",
     "output_type": "stream",
     "text": [
      "1. Get Screenshot of any website by providing URL and the image ratio (width, height)\n",
      "2. Image must be a regular **JPEG** or **PNG** image (with or without transparency)\n"
     ]
    }
   ],
   "source": [
    "\n",
    "api_comb = [\n",
    "\"web_capture/take_image_screenshot\",\n",
    "\"ocr_extract_text/extract_text_from_image_file\"\n",
    "]\n",
    "\n",
    "api_desc_list = []\n",
    "for idx, api in enumerate(api_comb):\n",
    "    tool_name, api_name = api.split(\"/\")\n",
    "    d = api_docs[tool_name][api_name]\n",
    "    api_desc_list.append(f\"{idx+1}. \" + d['description'])\n",
    "api_desc_text = \"\\n\".join(api_desc_list)\n",
    "print(api_desc_text)"
   ]
  },
  {
   "cell_type": "code",
   "execution_count": 41,
   "metadata": {},
   "outputs": [],
   "source": [
    "# example = \"I want to save the article at https://lilianweng.github.io/posts/2024-02-05-human-data-quality/ . Save the screenshot of this webpage and extract text from it.\"\n",
    "example = \"save this article for me https://www.infoworld.com/article/3715457/generative-ai-agents-will-revolutionize-ai-architecture.html\"\n",
    "# example = \"\"\n",
    "\n",
    "prompt = f\"\"\"Please generate 5 high-level instructions which can be solved with the combination of some of the APIs below. \n",
    "\n",
    "1. web_capture/take_image_screenshot: Get Screenshot of any website by providing URL\n",
    "2. ocr_extract_text/extract_text_from_image_file\n",
    "\n",
    "For example:\n",
    "Instruction: {example}\n",
    "\"\"\"\n",
    "\n",
    "gpt = GPT(model_name=\"gpt-4-turbo\")\n",
    "resp = gpt.chat([{\"role\": \"user\", \"content\": prompt}])\n",
    "with open(os.path.join(out_dir,\"comb4_group2.txt\"), \"w\") as file:\n",
    "    file.write(prompt)\n",
    "    file.write(\"\\n\\n==== RESPONSE ====\\n\")\n",
    "    file.write(resp['content'])"
   ]
  },
  {
   "cell_type": "markdown",
   "metadata": {},
   "source": [
    "### comb5"
   ]
  },
  {
   "cell_type": "code",
   "execution_count": 42,
   "metadata": {},
   "outputs": [
    {
     "name": "stdout",
     "output_type": "stream",
     "text": [
      "1. Compress image size at the cost of lower quality.\n",
      "2. Changing the size (i.e. width and height) of image.\n",
      "3. Convert the format of an image.\n",
      "4. Given the local path of an image, remove the background, and save the new image locally.\n"
     ]
    }
   ],
   "source": [
    "\n",
    "api_comb = [\n",
    "\"image_processing/compress_image\",\n",
    "\"image_processing/resize_image\",\n",
    "\"image_processing/convert_format\",\n",
    "\"image_remove_bg/remove_bg\"\n",
    "]\n",
    "\n",
    "api_desc_list = []\n",
    "for idx, api in enumerate(api_comb):\n",
    "    tool_name, api_name = api.split(\"/\")\n",
    "    d = api_docs[tool_name][api_name]\n",
    "    api_desc_list.append(f\"{idx+1}. \" + d['description'])\n",
    "api_desc_text = \"\\n\".join(api_desc_list)\n",
    "print(api_desc_text)"
   ]
  },
  {
   "cell_type": "code",
   "execution_count": 45,
   "metadata": {},
   "outputs": [],
   "source": [
    "\n",
    "example = \"I have one image at files/object_detection/birds.jpg. I want to remove its background, and save it to png format.\"\n",
    "# example = \"\"\n",
    "\n",
    "prompt = f\"\"\"Please generate 5 high-level instructions which can be solved with the combination of some of the APIs below. \n",
    "\n",
    "1. Compress image size at the cost of lower quality.\n",
    "2. Changing the size (i.e. width and height) of image.\n",
    "3. Convert the format of an image.\n",
    "4. remove the background of an image.\n",
    "\n",
    "For example:\n",
    "Instruction: {example}\n",
    "\"\"\"\n",
    "\n",
    "gpt = GPT(model_name=\"gpt-4-turbo\")\n",
    "resp = gpt.chat([{\"role\": \"user\", \"content\": prompt}])\n",
    "with open(os.path.join(out_dir,\"comb5_group2.txt\"), \"w\") as file:\n",
    "    file.write(prompt)\n",
    "    file.write(\"\\n\\n==== RESPONSE ====\\n\")\n",
    "    file.write(resp['content'])"
   ]
  },
  {
   "cell_type": "markdown",
   "metadata": {},
   "source": [
    "### comb7"
   ]
  },
  {
   "cell_type": "code",
   "execution_count": 47,
   "metadata": {},
   "outputs": [
    {
     "name": "stdout",
     "output_type": "stream",
     "text": [
      "1. Search images from the search engine for the most relevant keywords and images related to keywords and images.\n",
      "2. Compress image size at the cost of lower quality.\n",
      "3. Image must be a regular **JPEG** or **PNG** image (with or without transparency)\n",
      "4. Changing the size (i.e. width and height) of image.\n"
     ]
    }
   ],
   "source": [
    "api_comb = [\n",
    "\"bing_search_apis/images_search\",\n",
    "\"image_processing/compress_image\",\n",
    "\"ocr_extract_text/extract_text_from_image_url\",\n",
    "\"image_processing/resize_image\"\n",
    "]\n",
    "\n",
    "api_desc_list = []\n",
    "for idx, api in enumerate(api_comb):\n",
    "    tool_name, api_name = api.split(\"/\")\n",
    "    d = api_docs[tool_name][api_name]\n",
    "    api_desc_list.append(f\"{idx+1}. \" + d['description'])\n",
    "api_desc_text = \"\\n\".join(api_desc_list)\n",
    "print(api_desc_text)"
   ]
  },
  {
   "cell_type": "code",
   "execution_count": 49,
   "metadata": {},
   "outputs": [],
   "source": [
    "# example = \"Collect some proverb images and save the text in them.\"\n",
    "example = \"Curate a collection of classic book covers suitable for thumbnails\"\n",
    "\n",
    "prompt = f\"\"\"Please generate 5 high-level instructions which can be solved with the combination of some of the APIs below. \n",
    "\n",
    "1. images_search: Search images from the search engine for the most relevant keywords and images related to keywords and images.\n",
    "2. compress_image: Compress image size at the cost of lower quality.\n",
    "3. extract_text_from_image_url: Image must be a regular **JPEG** or **PNG** image (with or without transparency)\n",
    "4. resize_image: Changing the size (i.e. width and height) of image.\n",
    "\n",
    "For example:\n",
    "Instruction: {example}\n",
    "\"\"\"\n",
    "\n",
    "gpt = GPT(model_name=\"gpt-4-turbo\")\n",
    "resp = gpt.chat([{\"role\": \"user\", \"content\": prompt}])\n",
    "with open(os.path.join(out_dir,\"comb7_group2.txt\"), \"w\") as file:\n",
    "    file.write(prompt)\n",
    "    file.write(\"\\n\\n==== RESPONSE ====\\n\")\n",
    "    file.write(resp['content'])"
   ]
  },
  {
   "cell_type": "markdown",
   "metadata": {},
   "source": [
    "### comb9"
   ]
  },
  {
   "cell_type": "code",
   "execution_count": 50,
   "metadata": {},
   "outputs": [
    {
     "name": "stdout",
     "output_type": "stream",
     "text": [
      "1. Web search.\n",
      "2. Search images from the search engine for the most relevant keywords and images related to keywords and images.\n",
      "3. Search videos over web.\n",
      "4. Endpoint to search news by specific keywords.\n"
     ]
    }
   ],
   "source": [
    "api_comb = [\n",
    "\"bing/web_search\",\n",
    "\"bing_search_apis/images_search\",\n",
    "\"google_api/video_search\",\n",
    "\"news_api/search\"\n",
    "]\n",
    "\n",
    "api_desc_list = []\n",
    "for idx, api in enumerate(api_comb):\n",
    "    tool_name, api_name = api.split(\"/\")\n",
    "    d = api_docs[tool_name][api_name]\n",
    "    api_desc_list.append(f\"{idx+1}. \" + d['description'])\n",
    "api_desc_text = \"\\n\".join(api_desc_list)\n",
    "print(api_desc_text)"
   ]
  },
  {
   "cell_type": "code",
   "execution_count": 53,
   "metadata": {},
   "outputs": [],
   "source": [
    "# example = \"I am writing a book about Bill Gates. Help me collect some materials about him. I need some inspiration.\"\n",
    "# example = \"I am a fan of Taylor Swift. Show me some recent videos and news about her.\"\n",
    "example = \"Any news about NBA finals?\"\n",
    "\n",
    "prompt = f\"\"\"Please generate 5 high-level instructions which can be solved with the combination of some of the APIs below. \n",
    "\n",
    "1. web_search: Web search.\n",
    "2. images_search: Search images from the search engine for the most relevant keywords and images related to keywords and images.\n",
    "3. video_search: Search videos over web.\n",
    "4. news_api/search: Endpoint to search news by specific keywords.\n",
    "\n",
    "For example:\n",
    "Instruction: {example}\n",
    "\"\"\"\n",
    "\n",
    "gpt = GPT(model_name=\"gpt-4-turbo\")\n",
    "resp = gpt.chat([{\"role\": \"user\", \"content\": prompt}])\n",
    "with open(os.path.join(out_dir,\"comb9_group3.txt\"), \"w\") as file:\n",
    "    file.write(prompt)\n",
    "    file.write(\"\\n\\n==== RESPONSE ====\\n\")\n",
    "    file.write(resp['content'])"
   ]
  },
  {
   "cell_type": "markdown",
   "metadata": {},
   "source": [
    "### parse and merge data"
   ]
  },
  {
   "cell_type": "code",
   "execution_count": null,
   "metadata": {},
   "outputs": [],
   "source": [
    "import re\n",
    "\n",
    "def parse_instructions(resp_text):\n",
    "    prev_start, prev_end = None, None\n",
    "    gen_text_list = []\n",
    "    if len(list(re.findall(r\"Instruction \\d:\", resp_text))):\n",
    "        match_iter = re.finditer(r\"Instruction \\d:\", resp_text) \n",
    "    elif len(list(re.findall(r\"\\d. Instruction:\", resp_text))):\n",
    "        match_iter = re.finditer(r\"\\d. Instruction:\", resp_text) \n",
    "    elif len(list(re.findall(r\"Instruction:\", resp_text))):\n",
    "        match_iter = re.finditer(r\"Instruction:\", resp_text) \n",
    "    else:\n",
    "        raise Exception(\"no instruction found.\")\n",
    "\n",
    "\n",
    "    for m in match_iter:\n",
    "        start = m.start()\n",
    "        end = m.end()\n",
    "        if prev_end is not None:\n",
    "            last_gen = resp_text[prev_end: start]\n",
    "            gen_text_list.append(last_gen.strip())\n",
    "        prev_start, prev_end = start, end\n",
    "    last_gen = resp_text[prev_end: ]\n",
    "    gen_text_list.append(last_gen.strip())\n",
    "    instruction_list = []\n",
    "    explain_list = []\n",
    "    for text in gen_text_list:\n",
    "        lines = text.split(\"\\n\")\n",
    "        instruction = lines[0]\n",
    "        explain = \"\\n\".join(lines[1:]).strip()\n",
    "        instruction_list.append(instruction)\n",
    "        explain_list.append(explain)\n",
    "    return instruction_list, explain_list"
   ]
  },
  {
   "cell_type": "code",
   "execution_count": 129,
   "metadata": {},
   "outputs": [
    {
     "name": "stdout",
     "output_type": "stream",
     "text": [
      "== comb1_group1.txt ==\n",
      "== comb1_group2.txt ==\n",
      "== comb2_group1.txt ==\n",
      "== comb2_group2.txt ==\n",
      "== comb2_group3.txt ==\n",
      "== comb3_group1.txt ==\n",
      "== comb3_group2.txt ==\n",
      "== comb3_group3.txt ==\n",
      "== comb4_group1.txt ==\n",
      "== comb4_group2.txt ==\n",
      "== comb5_group1.txt ==\n",
      "== comb5_group2.txt ==\n",
      "== comb7_group1.txt ==\n",
      "== comb7_group2.txt ==\n",
      "== comb9_group1.txt ==\n",
      "== comb9_group2.txt ==\n",
      "== comb9_group3.txt ==\n"
     ]
    }
   ],
   "source": [
    "data_dir = out_dir\n",
    "name_list = os.listdir(data_dir)\n",
    "\n",
    "merge_instruction_list = []\n",
    "merge_explain_list = []\n",
    "merge_name_list = []\n",
    "for name in name_list:\n",
    "    if not name.endswith(\".txt\"):\n",
    "        continue\n",
    "    print(f\"== {name} ==\")\n",
    "    fn = os.path.join(data_dir, name)\n",
    "    with open(fn) as file:\n",
    "        cont = file.read()\n",
    "        resp_text = cont.split(\"\\n\\n==== RESPONSE ====\\n\")[-1]\n",
    "        try:\n",
    "            instruction_list, explain_list = parse_instructions(resp_text)\n",
    "        except Exception as e:\n",
    "            print(e)\n",
    "            continue\n",
    "        merge_instruction_list.extend(instruction_list)\n",
    "        merge_explain_list.extend(explain_list)\n",
    "        merge_name_list.extend([name]*len(instruction_list))\n",
    "\n",
    "df = pd.DataFrame(data={\"fn\": merge_name_list, \"instruction\": merge_instruction_list, \"explain\": merge_explain_list})\n",
    "df.to_csv(os.path.join(data_dir, \"../merged_instructions_type-v_semi.csv\"))"
   ]
  },
  {
   "cell_type": "code",
   "execution_count": 123,
   "metadata": {},
   "outputs": [],
   "source": []
  },
  {
   "cell_type": "code",
   "execution_count": null,
   "metadata": {},
   "outputs": [],
   "source": []
  }
 ],
 "metadata": {
  "interpreter": {
   "hash": "6cb20c22aae036c8bccd33845be3a8f05218c3ab9901189dfb6f8a711282a402"
  },
  "kernelspec": {
   "display_name": "Python 3.9.19 ('eval_mech')",
   "language": "python",
   "name": "python3"
  },
  "language_info": {
   "codemirror_mode": {
    "name": "ipython",
    "version": 3
   },
   "file_extension": ".py",
   "mimetype": "text/x-python",
   "name": "python",
   "nbconvert_exporter": "python",
   "pygments_lexer": "ipython3",
   "version": "3.9.18"
  },
  "orig_nbformat": 4
 },
 "nbformat": 4,
 "nbformat_minor": 2
}
