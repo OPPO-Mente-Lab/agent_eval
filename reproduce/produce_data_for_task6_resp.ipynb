{
 "cells": [
  {
   "cell_type": "code",
   "execution_count": 1,
   "metadata": {},
   "outputs": [],
   "source": [
    "import pandas as pd\n",
    "import json5\n",
    "import pickle\n",
    "import json"
   ]
  },
  {
   "cell_type": "code",
   "execution_count": null,
   "metadata": {},
   "outputs": [],
   "source": [
    "res_fn = \"../data/instructions/task4_results.csv\"\n",
    "out_fn = \"output/eval_tasks/task6.csv\"\n",
    "\n",
    "res_df = pd.read_csv(res_fn, index_col=0)\n",
    "\n",
    "out_df = res_df[[\"did\", \"tool_name\", \"api_name\", \"instruction\"]]\n",
    "sel_data_list = []\n",
    "for i in range(len(res_df)):\n",
    "    row = res_df.iloc[i]\n",
    "    did, tool_name, api_name, instruction, _, conv_text = row.tolist()\n",
    "    try:\n",
    "        conv = json5.loads(conv_text)\n",
    "    except Exception as e:\n",
    "        print(i, e)\n",
    "        # print(conv)\n",
    "        # raise e\n",
    "    if conv[-1][\"role\"] != \"assistant\" or conv[-2][\"role\"] != \"tool\":\n",
    "        continue\n",
    "    conv_str = json.dumps(conv[:-1], ensure_ascii=False, indent=2)\n",
    "    sel_data_list.append((did, tool_name, api_name, instruction, conv_str))\n",
    "out_df = pd.DataFrame(data=sel_data_list, columns=[\"did\", \"tool_name\", \"api_name\", \"instruction\", \"conv\"])\n",
    "out_df.to_csv(out_fn)"
   ]
  },
  {
   "cell_type": "code",
   "execution_count": null,
   "metadata": {},
   "outputs": [],
   "source": []
  }
 ],
 "metadata": {
  "interpreter": {
   "hash": "9e16d08a1e9f924561400ab1dbae52f8e3a6a31fe512ade22523545284255347"
  },
  "kernelspec": {
   "display_name": "Python 3.9.18 ('agent')",
   "language": "python",
   "name": "python3"
  },
  "language_info": {
   "codemirror_mode": {
    "name": "ipython",
    "version": 3
   },
   "file_extension": ".py",
   "mimetype": "text/x-python",
   "name": "python",
   "nbconvert_exporter": "python",
   "pygments_lexer": "ipython3",
   "version": "3.9.18"
  },
  "orig_nbformat": 4
 },
 "nbformat": 4,
 "nbformat_minor": 2
}
