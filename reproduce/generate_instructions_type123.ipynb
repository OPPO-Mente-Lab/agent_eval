{
 "cells": [
  {
   "cell_type": "code",
   "execution_count": 3,
   "metadata": {},
   "outputs": [],
   "source": [
    "import json\n",
    "import pandas as pd\n",
    "from tqdm.auto import tqdm\n",
    "from sft_data_gen import prompt_generation"
   ]
  },
  {
   "cell_type": "code",
   "execution_count": 4,
   "metadata": {},
   "outputs": [],
   "source": [
    "tool_dir = \"../toolset\"\n",
    "\n",
    "tool_names = [\n",
    "    \"rapidapi/weatherapi_com\", \n",
    "    \"rapidapi/news_api\", \n",
    "    \"rapidapi/public_holiday\", \n",
    "    \"dev_tools/calendar\", \n",
    "    \"rapidapi/recipe_by_api_ninjas\"\n",
    "]\n",
    "\n",
    "tool_names += [\n",
    "    \"rapidapi/objects_detection\", \n",
    "    \"rapidapi/ocr_extract_text\", \n",
    "    \"dev_tools/image_translation\", \n",
    "    \"dev_tools/image_processing\", \n",
    "    \"dev_tools/image_remove_bg\",\n",
    "    \"rapidapi/web_capture\"\n",
    "]\n",
    "\n",
    "tool_names += [\n",
    "    \"rapidapi/onecompiler_apis\", \n",
    "    \"rapidapi/bing\",\n",
    "    \"rapidapi/bing_search_apis\",\n",
    "    \"rapidapi/google_api\"\n",
    "]\n",
    "\n",
    "tool_names += [\n",
    "    \"rapidapi/skyscanner80\", \n",
    "    \"rapidapi/currency_exchange\", \n",
    "    \"rapidapi/geocoding_by_api_ninjas\", \n",
    "    \"rapidapi/airports\",\n",
    "    \"rapidapi/list_of_all_countries_and_languages_with_their_codes\",\n",
    "    \"rapidapi/tourist_attraction\"\n",
    "]\n",
    "\n",
    "tool_names += [\n",
    "    \"rapidapi/world_time_by_api_ninjas\", \n",
    "    \"rapidapi/google_translate\",\n",
    "    \"rapidapi/ip_geo_location\",\n",
    "    \"dev_tools/calculator\",\n",
    "    \"dev_tools/access_user_info\",\n",
    "    \"dev_tools/agent_equipments\"\n",
    "]"
   ]
  },
  {
   "cell_type": "code",
   "execution_count": 2,
   "metadata": {},
   "outputs": [],
   "source": [
    "api_list = []\n",
    "for name in tool_names:\n",
    "    tool_src, tool = name.split(\"/\")\n",
    "    doc_fn = os.path.join(tool_dir, tool_src, \"docs\", tool + \".json\")\n",
    "    with open(doc_fn) as file:\n",
    "        doc_obj = json.loads(file.read())\n",
    "        for api_obj in doc_obj[\"APIs\"]:\n",
    "            api_name = api_obj[\"function\"][\"name\"]\n",
    "            api_list.append((tool_src, tool, api_name))\n",
    "\n",
    "# df = pd.DataFrame(data = api_list, columns = [\"source\", \"tool_name\", \"api_name\"])\n",
    "# df.to_csv(\"selected_tools.csv\")"
   ]
  },
  {
   "cell_type": "code",
   "execution_count": null,
   "metadata": {},
   "outputs": [],
   "source": [
    "toolset_dir = os.path.join(os.getcwd(), \"../toolset\") \n",
    "out_dir = \"./output\"\n",
    "for idx, tn in enumerate(tool_names):\n",
    "    print(f\"==>> {idx}/{len(tool_names)} {tn}\")\n",
    "    src, tool_name = tn.split('/')\n",
    "    doc_path = os.path.join(toolset_dir, f\"{src}/docs/{tool_name}.json\") \n",
    "    print(doc_path)\n",
    "    instruct_df = prompt_generation.gen_instructions_given_tool_doc(doc_path, 1, 10, toolset_dir)\n",
    "    out_fn = os.path.join(out_dir, \"instruction_data/type-i\", f\"{tool_name}.csv\")\n",
    "    os.makedirs(os.path.join(out_dir, \"instruction_data/type-i\"), exist_ok=True)\n",
    "    instruct_df.to_csv(out_fn)"
   ]
  },
  {
   "cell_type": "code",
   "execution_count": null,
   "metadata": {},
   "outputs": [],
   "source": [
    "toolset_dir = os.path.join(os.getcwd(), \"../toolset\") \n",
    "out_dir = \"./output\"\n",
    "for idx, tn in enumerate(tool_names):\n",
    "    print(f\"==>> {idx}/{len(tool_names)} {tn}\")\n",
    "    src, tool_name = tn.split('/')\n",
    "    doc_path = os.path.join(toolset_dir, f\"{src}/docs/{tool_name}.json\") \n",
    "    print(doc_path)\n",
    "    instruct_df = prompt_generation.gen_instructions_given_tool_doc(doc_path, 2, 10, toolset_dir)\n",
    "    out_fn = os.path.join(out_dir, \"instruction_data/type-ii\", f\"{tool_name}.csv\")\n",
    "    os.makedirs(os.path.join(out_dir, \"instruction_data/type-ii\"), exist_ok=True)\n",
    "    instruct_df.to_csv(out_fn)"
   ]
  },
  {
   "cell_type": "code",
   "execution_count": null,
   "metadata": {},
   "outputs": [],
   "source": [
    "toolset_dir = os.path.join(os.getcwd(), \"../toolset\") \n",
    "out_dir = \"./output\"\n",
    "for idx, tn in enumerate(tool_names):\n",
    "    print(f\"==>> {idx}/{len(tool_names)} {tn}\")\n",
    "    src, tool_name = tn.split('/')\n",
    "    doc_path = os.path.join(toolset_dir, f\"{src}/docs/{tool_name}.json\") \n",
    "    print(doc_path)\n",
    "    instruct_df = prompt_generation.gen_instructions_given_tool_doc(doc_path, 3, 10, toolset_dir)\n",
    "    out_fn = os.path.join(out_dir, \"instruction_data/type-iii\", f\"{tool_name}.csv\")\n",
    "    os.makedirs(os.path.join(out_dir, \"instruction_data/type-iii\"), exist_ok=True)\n",
    "    instruct_df.to_csv(out_fn)"
   ]
  },
  {
   "cell_type": "code",
   "execution_count": null,
   "metadata": {},
   "outputs": [],
   "source": []
  },
  {
   "cell_type": "code",
   "execution_count": null,
   "metadata": {},
   "outputs": [],
   "source": [
    "# merge\n",
    "\n",
    "instruction_type = \"type-i\"  # can change it to type-ii, type-iii\n",
    "data_dir = f\"output/instruction_data/{instruction_type}\"\n",
    "out_dir = \"./output/instruction_data/\"\n",
    "name_list = os.listdir(data_dir)\n",
    "\n",
    "merge_data_list = []\n",
    "for name in name_list:\n",
    "    fn = os.path.join(data_dir, name)\n",
    "    df = pd.read_csv(fn, index_col=0)\n",
    "    cur_tool, cur_api = None, None\n",
    "    for idx in df.index:\n",
    "        row = df.loc[idx]\n",
    "        tool_name, api_name, instruction, ins_t = row.tolist()\n",
    "        if pd.isna(tool_name):\n",
    "            tool_name = cur_tool\n",
    "        else:\n",
    "            cur_tool = tool_name\n",
    "            \n",
    "        if pd.isna(api_name):\n",
    "            api_name = cur_api\n",
    "        else:\n",
    "            cur_api = api_name\n",
    "\n",
    "        assert not pd.isna(tool_name) and not pd.isna(api_name), f\"Exception: tool_name: {tool_name}, api_name: {api_name}\"\n",
    "        merge_data_list.append((tool_name, api_name, instruction, ins_t))\n",
    "\n",
    "merge_df = pd.DataFrame(data=merge_data_list, columns=[\"tool_name\", \"api_name\", \"instruction\", \"type\"])\n",
    "merge_df.to_csv(os.path.join(out_dir, f\"merged_instructions_{instruction_type}.csv\"))"
   ]
  },
  {
   "cell_type": "code",
   "execution_count": null,
   "metadata": {},
   "outputs": [],
   "source": []
  },
  {
   "cell_type": "code",
   "execution_count": null,
   "metadata": {},
   "outputs": [],
   "source": []
  }
 ],
 "metadata": {
  "interpreter": {
   "hash": "d4d1e4263499bec80672ea0156c357c1ee493ec2b1c70f0acce89fc37c4a6abe"
  },
  "kernelspec": {
   "display_name": "Python 3.7.10 ('base')",
   "language": "python",
   "name": "python3"
  },
  "language_info": {
   "codemirror_mode": {
    "name": "ipython",
    "version": 3
   },
   "file_extension": ".py",
   "mimetype": "text/x-python",
   "name": "python",
   "nbconvert_exporter": "python",
   "pygments_lexer": "ipython3",
   "version": "3.9.18"
  },
  "orig_nbformat": 4
 },
 "nbformat": 4,
 "nbformat_minor": 2
}
